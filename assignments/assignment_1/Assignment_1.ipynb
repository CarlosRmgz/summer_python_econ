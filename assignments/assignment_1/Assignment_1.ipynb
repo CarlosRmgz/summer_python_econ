{
 "cells": [
  {
   "cell_type": "markdown",
   "id": "5d198778",
   "metadata": {},
   "source": [
    "# TAREA N°1"
   ]
  },
  {
   "cell_type": "markdown",
   "id": "853562f8",
   "metadata": {},
   "source": [
    "##  Parte 1.Tipos de datos "
   ]
  },
  {
   "cell_type": "markdown",
   "id": "521b5fe7",
   "metadata": {},
   "source": [
    "a.Declare una variable de cada uno de estos tipos : int , float , string , boolean.\n",
    "- Imprima el tipo de cada variable usando la función type()\n",
    "\n",
    "\n"
   ]
  },
  {
   "cell_type": "code",
   "execution_count": null,
   "id": "b8adc928",
   "metadata": {},
   "outputs": [],
   "source": []
  },
  {
   "cell_type": "markdown",
   "id": "1a2d5445",
   "metadata": {},
   "source": []
  },
  {
   "cell_type": "markdown",
   "id": "ce38f1d9",
   "metadata": {},
   "source": [
    " b. Utilizando sólo los siguientes inputs: ```5``` y ```2```  , maneje los operadores tal que el output sea ```50```"
   ]
  },
  {
   "cell_type": "code",
   "execution_count": null,
   "id": "46b08279",
   "metadata": {},
   "outputs": [],
   "source": []
  },
  {
   "cell_type": "markdown",
   "id": "42009dda",
   "metadata": {},
   "source": [
    "c.Evalúa si es que el output del ejercicio anterior es mayor a 100. Crea una variable con esta evaluación (Hint: Será un booleano)."
   ]
  },
  {
   "cell_type": "code",
   "execution_count": null,
   "id": "e1226c5e",
   "metadata": {},
   "outputs": [],
   "source": []
  },
  {
   "cell_type": "markdown",
   "id": "877a0395",
   "metadata": {},
   "source": [
    "d. Crea una variable igual a una lista que contenga:\n",
    "- un string,\n",
    "- un booleano,\n",
    "- dos valores numéricos (de cualquier tipo) y\n",
    "- una lista de dos strings con el nombre de tus artistas musicales favoritos. "
   ]
  },
  {
   "cell_type": "code",
   "execution_count": null,
   "id": "081b71d0",
   "metadata": {},
   "outputs": [],
   "source": []
  },
  {
   "cell_type": "markdown",
   "id": "e2a5f459",
   "metadata": {},
   "source": [
    "## Parte 2. Contenedores"
   ]
  },
  {
   "cell_type": "markdown",
   "id": "51681d3c",
   "metadata": {},
   "source": [
    "e. Crea una tupla con 3 elementos y explica por qué no pueden modificarla "
   ]
  },
  {
   "cell_type": "code",
   "execution_count": null,
   "id": "dd8d0079",
   "metadata": {},
   "outputs": [],
   "source": []
  },
  {
   "cell_type": "markdown",
   "id": "25ecd132",
   "metadata": {},
   "source": [
    "f.Crea un diccionario  con al menos 3 claves y valores."
   ]
  },
  {
   "cell_type": "code",
   "execution_count": null,
   "id": "57ac77f1",
   "metadata": {},
   "outputs": [],
   "source": []
  },
  {
   "cell_type": "markdown",
   "id": "88837e32",
   "metadata": {},
   "source": [
    "g.Tenemos la siguiente lista de cursos: "
   ]
  },
  {
   "cell_type": "code",
   "execution_count": 5,
   "id": "b75be7fb",
   "metadata": {},
   "outputs": [],
   "source": [
    "cursos = [\"Historia\", \"Economia\", \"Antropologia\", \"RSP\", \"Derecho\"]"
   ]
  },
  {
   "cell_type": "markdown",
   "id": "005d3d70",
   "metadata": {},
   "source": [
    "g.1.Agrega tres cursos adicionales de 3 formas diferentes (uno por forma):\n",
    "   - Suma (+) una lista que contenga un curso adicional. \n",
    "   - Usa el append. \n",
    "   - Usa el extend. "
   ]
  },
  {
   "cell_type": "code",
   "execution_count": null,
   "id": "6d6e70db",
   "metadata": {},
   "outputs": [],
   "source": []
  },
  {
   "cell_type": "markdown",
   "id": "6cf07d6a",
   "metadata": {},
   "source": [
    "g.2.Usa la indexación para señalar a _RSP_."
   ]
  },
  {
   "cell_type": "code",
   "execution_count": null,
   "id": "0a03e468",
   "metadata": {},
   "outputs": [],
   "source": []
  },
  {
   "cell_type": "markdown",
   "id": "bfb7ace5",
   "metadata": {},
   "source": [
    "g.3 Remueve el curso que menos te guste"
   ]
  },
  {
   "cell_type": "code",
   "execution_count": null,
   "id": "63ea56cf",
   "metadata": {},
   "outputs": [],
   "source": []
  },
  {
   "cell_type": "markdown",
   "id": "d07e8d7c",
   "metadata": {},
   "source": [
    "g.4. Invierte la lista"
   ]
  },
  {
   "cell_type": "code",
   "execution_count": null,
   "id": "c32c86be",
   "metadata": {},
   "outputs": [],
   "source": []
  },
  {
   "cell_type": "markdown",
   "id": "17a5576a",
   "metadata": {},
   "source": [
    "h.Crea un dicionario que represente un inventario de frutas:\n",
    " - Agregue al menos 5 frutas al inventario\n",
    "- Imprime la cantidad de manzanas en stock \n",
    "- Modifique la cantidad de platanos\n"
   ]
  },
  {
   "cell_type": "code",
   "execution_count": null,
   "id": "a7ec16e9",
   "metadata": {},
   "outputs": [],
   "source": []
  },
  {
   "cell_type": "markdown",
   "id": "0c74c187",
   "metadata": {},
   "source": [
    "i. Escribe un diccionario con el horario GMT de las siguientes ciudades:\n",
    "- Antananarivo, Madagascar, \n",
    "- Beirut, Líbano, \n",
    "- Jakarta, Indonesia, \n",
    "- Teherán, Irán, \n",
    "- Vientiane, Laos, \n",
    "\n",
    "\n",
    "\n",
    "Pista: Lima sería: `\"Lima\": -5`"
   ]
  },
  {
   "cell_type": "code",
   "execution_count": null,
   "id": "95e4b82d",
   "metadata": {},
   "outputs": [],
   "source": []
  },
  {
   "cell_type": "markdown",
   "id": "e0f93671",
   "metadata": {},
   "source": [
    " j.Agrega las siguientes ciudades al diccionario:\n",
    "- Astana, Kazajstán,\n",
    "- Uagadugú, Burkina Faso,\n",
    "- Balmopan, Belice"
   ]
  },
  {
   "cell_type": "markdown",
   "id": "c6c4f120",
   "metadata": {},
   "source": [
    "# Parte 3. Numpy\n"
   ]
  },
  {
   "cell_type": "markdown",
   "id": "ef5f5f96",
   "metadata": {},
   "source": [
    "k.Crea un arreglo de 10 numeros aleatorios que vayan del 0 al 9"
   ]
  },
  {
   "cell_type": "markdown",
   "id": "914e1007",
   "metadata": {},
   "source": []
  },
  {
   "cell_type": "markdown",
   "id": "f653f08e",
   "metadata": {},
   "source": [
    "l.Crea una matrix 3x3 llena de ceros"
   ]
  },
  {
   "cell_type": "code",
   "execution_count": null,
   "id": "6aea98a5",
   "metadata": {},
   "outputs": [],
   "source": []
  },
  {
   "cell_type": "markdown",
   "id": "b0cca53d",
   "metadata": {},
   "source": [
    "m.Suma dos arreglos y luego multiplicalos por 1 escalar \n"
   ]
  },
  {
   "cell_type": "markdown",
   "id": "9d7b9466",
   "metadata": {},
   "source": []
  },
  {
   "cell_type": "code",
   "execution_count": null,
   "id": "7dca938e",
   "metadata": {},
   "outputs": [],
   "source": []
  },
  {
   "cell_type": "markdown",
   "id": "a9e3e08f",
   "metadata": {},
   "source": [
    "n.Crea 2 arreglos con los valores que desees:\n",
    "- Concatenalos de manera horizontal\n",
    "- Concatenalos de manera vertical "
   ]
  },
  {
   "cell_type": "code",
   "execution_count": null,
   "id": "6469da02",
   "metadata": {},
   "outputs": [],
   "source": []
  },
  {
   "cell_type": "markdown",
   "id": "c2a634a1",
   "metadata": {},
   "source": []
  }
 ],
 "metadata": {
  "kernelspec": {
   "display_name": "Python 3 (ipykernel)",
   "language": "python",
   "name": "python3"
  },
  "language_info": {
   "codemirror_mode": {
    "name": "ipython",
    "version": 3
   },
   "file_extension": ".py",
   "mimetype": "text/x-python",
   "name": "python",
   "nbconvert_exporter": "python",
   "pygments_lexer": "ipython3",
   "version": "3.11.5"
  }
 },
 "nbformat": 4,
 "nbformat_minor": 5
}
