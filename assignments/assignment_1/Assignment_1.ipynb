{
 "cells": [
  {
   "cell_type": "markdown",
   "id": "5d198778",
   "metadata": {},
   "source": [
    "# TAREA N°1"
   ]
  },
  {
   "cell_type": "markdown",
   "id": "853562f8",
   "metadata": {},
   "source": [
    "##  Tipos de datos y operaciones basicas "
   ]
  },
  {
   "cell_type": "markdown",
   "id": "521b5fe7",
   "metadata": {},
   "source": [
    "a.Declare una variable de cada uno de estos tipos : int , float , string , boolean.\n",
    "- Imprima el tipo de cada variable usando la función type()\n",
    "\n",
    "\n"
   ]
  },
  {
   "cell_type": "code",
   "execution_count": null,
   "id": "b8adc928",
   "metadata": {},
   "outputs": [],
   "source": []
  },
  {
   "cell_type": "markdown",
   "id": "1a2d5445",
   "metadata": {},
   "source": []
  },
  {
   "cell_type": "markdown",
   "id": "ce38f1d9",
   "metadata": {},
   "source": [
    " b. Utilizando sólo los siguientes inputs: ```5``` y ```2```  , maneje los operadores tal que el output sea ```50```"
   ]
  },
  {
   "cell_type": "code",
   "execution_count": null,
   "id": "46b08279",
   "metadata": {},
   "outputs": [],
   "source": []
  },
  {
   "cell_type": "markdown",
   "id": "42009dda",
   "metadata": {},
   "source": [
    "c.Evalúa si es que el output del ejercicio anterior es mayor a 100. Crea una variable con esta evaluación (Hint: Será un booleano)."
   ]
  },
  {
   "cell_type": "code",
   "execution_count": null,
   "id": "e1226c5e",
   "metadata": {},
   "outputs": [],
   "source": []
  },
  {
   "cell_type": "markdown",
   "id": "877a0395",
   "metadata": {},
   "source": [
    "d. Crea una variable igual a una lista que contenga:\n",
    "- un string,\n",
    "- un booleano,\n",
    "- dos valores numéricos (de cualquier tipo) y\n",
    "- una lista de dos strings con el nombre de tus artistas musicales favoritos. "
   ]
  },
  {
   "cell_type": "code",
   "execution_count": null,
   "id": "081b71d0",
   "metadata": {},
   "outputs": [],
   "source": []
  },
  {
   "cell_type": "markdown",
   "id": "51681d3c",
   "metadata": {},
   "source": [
    "e. Crea una tupla con 3 elementos y explica por qué no pueden modificarla "
   ]
  },
  {
   "cell_type": "code",
   "execution_count": null,
   "id": "dd8d0079",
   "metadata": {},
   "outputs": [],
   "source": []
  },
  {
   "cell_type": "markdown",
   "id": "25ecd132",
   "metadata": {},
   "source": [
    "f.Crea un diccionario  con al menos 3 claves y valores."
   ]
  },
  {
   "cell_type": "code",
   "execution_count": null,
   "id": "57ac77f1",
   "metadata": {},
   "outputs": [],
   "source": []
  },
  {
   "cell_type": "markdown",
   "id": "88837e32",
   "metadata": {},
   "source": [
    "g.Tenemos la siguiente lista de cursos: "
   ]
  },
  {
   "cell_type": "code",
   "execution_count": 5,
   "id": "b75be7fb",
   "metadata": {},
   "outputs": [],
   "source": [
    "cursos = [\"Historia\", \"Economia\", \"Antropologia\", \"RSP\", \"Derecho\"]"
   ]
  },
  {
   "cell_type": "markdown",
   "id": "005d3d70",
   "metadata": {},
   "source": [
    "g.1.Agrega tres cursos adicionales de 3 formas diferentes (uno por forma):\n",
    "   - Suma (+) una lista que contenga un curso adicional. \n",
    "   - Usa el append. \n",
    "   - Usa el extend. "
   ]
  },
  {
   "cell_type": "code",
   "execution_count": null,
   "id": "6d6e70db",
   "metadata": {},
   "outputs": [],
   "source": []
  },
  {
   "cell_type": "markdown",
   "id": "6cf07d6a",
   "metadata": {},
   "source": [
    "g.2.Usa la indexación para señalar a _RSP_."
   ]
  },
  {
   "cell_type": "code",
   "execution_count": null,
   "id": "0a03e468",
   "metadata": {},
   "outputs": [],
   "source": []
  },
  {
   "cell_type": "markdown",
   "id": "bfb7ace5",
   "metadata": {},
   "source": [
    "g.3 Remueve el curso que menos te guste"
   ]
  },
  {
   "cell_type": "code",
   "execution_count": null,
   "id": "63ea56cf",
   "metadata": {},
   "outputs": [],
   "source": []
  },
  {
   "cell_type": "markdown",
   "id": "d07e8d7c",
   "metadata": {},
   "source": [
    "g.4. Invierte la lista"
   ]
  },
  {
   "cell_type": "code",
   "execution_count": null,
   "id": "c32c86be",
   "metadata": {},
   "outputs": [],
   "source": []
  }
 ],
 "metadata": {
  "kernelspec": {
   "display_name": "Python 3 (ipykernel)",
   "language": "python",
   "name": "python3"
  },
  "language_info": {
   "codemirror_mode": {
    "name": "ipython",
    "version": 3
   },
   "file_extension": ".py",
   "mimetype": "text/x-python",
   "name": "python",
   "nbconvert_exporter": "python",
   "pygments_lexer": "ipython3",
   "version": "3.11.5"
  }
 },
 "nbformat": 4,
 "nbformat_minor": 5
}
